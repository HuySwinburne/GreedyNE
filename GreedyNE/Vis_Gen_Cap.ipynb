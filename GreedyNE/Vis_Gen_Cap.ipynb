{
  "nbformat": 4,
  "nbformat_minor": 0,
  "metadata": {
    "colab": {
      "provenance": []
    },
    "kernelspec": {
      "name": "python3",
      "display_name": "Python 3"
    },
    "language_info": {
      "name": "python"
    }
  },
  "cells": [
    {
      "cell_type": "code",
      "execution_count": 1,
      "metadata": {
        "id": "4k_t1OuFKlbx"
      },
      "outputs": [],
      "source": [
        "import json\n",
        "import math\n",
        "import os\n",
        "import pandas as pd\n",
        "import scipy.stats\n",
        "import numpy as np"
      ]
    },
    {
      "cell_type": "code",
      "source": [
        "def load_json(filename):\n",
        "    with open(filename) as f:\n",
        "        dict_list = [json.loads(line) for line in f]\n",
        "    return dict_list"
      ],
      "metadata": {
        "id": "NgfE12ZZKqbc"
      },
      "execution_count": null,
      "outputs": []
    },
    {
      "cell_type": "code",
      "source": [
        "result_list = load_json('result_cap_1')\n",
        "df_result = pd.DataFrame(result_list,columns = list(result_list[0].keys()))\n",
        "df_result.head()"
      ],
      "metadata": {
        "id": "Lq4m6P3SKr5N"
      },
      "execution_count": null,
      "outputs": []
    },
    {
      "cell_type": "code",
      "source": [
        "df_result['task_num'].value_counts()"
      ],
      "metadata": {
        "id": "7Q2BlPTNKtzt"
      },
      "execution_count": null,
      "outputs": []
    },
    {
      "cell_type": "code",
      "source": [
        "df_result.describe()[[\"task_num\",\"agent_num\",\"g\",\"g_t\",'g_iter']]"
      ],
      "metadata": {
        "id": "MiVyZ1xQKvQV"
      },
      "execution_count": null,
      "outputs": []
    },
    {
      "cell_type": "code",
      "source": [
        "result_agg= df_result.groupby('task_num').mean().reset_index()\n",
        "result_agg"
      ],
      "metadata": {
        "id": "h0Y7p98AKwpv"
      },
      "execution_count": null,
      "outputs": []
    },
    {
      "cell_type": "code",
      "source": [
        "import matplotlib.pyplot as plt\n",
        "%matplotlib inline\n",
        "methods = ['g','rand_g','rand']\n",
        "methods_time = [m+\"_t\" for m in methods]\n",
        "marker = ['o','^','D']\n",
        "color = ['red','darkorange','green']\n",
        "result_agg_FMS = result_agg[result_agg.task_num <=400]\n",
        "# gca stands for 'get current axis'\n",
        "ax = plt.gca()\n",
        "for m in range(0,len(methods)):\n",
        "    cap_reward = result_agg.plot(kind='line',x='task_num',y=methods[m],ax=ax,color=color[m], marker=marker[m],fillstyle = 'none',markersize=8)\n",
        "ax.legend(['GreedyNE', 'GreedyNE_LS','Rand'], fontsize=15)\n",
        "ax.set_xlabel('task number', fontsize=20)\n",
        "plt.tick_params(labelsize=18)\n",
        "# ax.set_yscale('log')\n",
        "# plt.show()\n",
        "plt.savefig('cap_reward.pdf',bbox_inches='tight')"
      ],
      "metadata": {
        "id": "HxCjcji7Kx5G"
      },
      "execution_count": null,
      "outputs": []
    },
    {
      "cell_type": "code",
      "source": [
        "methods = ['g','rand_g']\n",
        "methods_time = [m+\"_t\" for m in methods]\n",
        "marker = ['o','^','D']\n",
        "color = ['red','darkorange','green']\n",
        "ax = plt.gca()\n",
        "for m in range(0,len(methods)):\n",
        "    cap_time = result_agg.plot(kind='line',x='task_num',y=methods_time[m],ax=ax,color=color[m],marker=marker[m],fillstyle = 'none',markersize=8)\n",
        "ax.set_yscale('log')\n",
        "ax.legend(['GreedyNE', 'GreedyNE-LS'], fontsize=15)\n",
        "ax.set_xlabel('task number', fontsize=20)\n",
        "plt.tick_params(labelsize=18)\n",
        "# plt.show()\n",
        "plt.savefig('cap_time.pdf',bbox_inches='tight')"
      ],
      "metadata": {
        "id": "loBB2Eq-KzV9"
      },
      "execution_count": null,
      "outputs": []
    },
    {
      "cell_type": "code",
      "source": [
        "ax = plt.gca()\n",
        "task_num = [100*t for t in range(1,11)]\n",
        "Y_iter = result_agg['g_iter']\n",
        "# y_iter = [math.log(Y_iter[y],2) for y in range(0,len(Y_iter))]\n",
        "\n",
        "# # print(Y_ressign)\n",
        "# y_reassign = [math.log(Y_ressign[yr],2) for yr in range(0,len(Y_ressign))]\n",
        "# # print(y_reassign)\n",
        "\n",
        "# plt.plot(task_num,y_iter,color='darkorange',marker='o',markersize=6,label='log2(y)')\n",
        "# cap_iter_reass = pltl.plot(task_num,y_reassign,color='darkorange',marker='o',markersize=6,label='log2(y)')\n",
        "# ax.axes.set_xlim(100,1000)\n",
        "# ax.axes.set_ylim(3,12)\n",
        "# plt.xlabel('task_num')\n",
        "# plt.errorbar(task_num,Y_itery,yerr=dy,fmt='o',ecolor='r',color='b',elinewidth=2,capsize=4)\n",
        "\n",
        "result_agg.plot(linestyle='-',x='task_num',y='g_iter',ax=ax,color='red',marker='o',fillstyle = 'none',markersize=8)\n",
        "ax.set_yscale('log')\n",
        "ax.legend(['GreedyNE Iteration'], fontsize=15)\n",
        "ax.set_xlabel('task number', fontsize=20)\n",
        "plt.tick_params(labelsize=18)\n",
        "# plt.show()\n",
        "plt.savefig('cap_iter_reass.pdf',bbox_inches='tight')"
      ],
      "metadata": {
        "id": "HvgQk0cXK1--"
      },
      "execution_count": null,
      "outputs": []
    }
  ]
}